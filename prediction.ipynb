{
 "cells": [
  {
   "cell_type": "code",
   "execution_count": 1,
   "metadata": {},
   "outputs": [],
   "source": [
    "import numpy as np\n",
    "import tensorflow as tf\n",
    "from tensorflow.keras.datasets import imdb\n",
    "from tensorflow.keras.preprocessing import sequence\n",
    "from tensorflow.keras.models import load_model"
   ]
  },
  {
   "cell_type": "code",
   "execution_count": 2,
   "metadata": {},
   "outputs": [],
   "source": [
    "word_index = imdb.get_word_index()\n",
    "reverse_word_index = {value: key for key, value in word_index.items()}"
   ]
  },
  {
   "cell_type": "code",
   "execution_count": 4,
   "metadata": {},
   "outputs": [
    {
     "name": "stderr",
     "output_type": "stream",
     "text": [
      "WARNING:absl:Compiled the loaded model, but the compiled metrics have yet to be built. `model.compile_metrics` will be empty until you train or evaluate the model.\n"
     ]
    },
    {
     "data": {
      "text/html": [
       "<pre style=\"white-space:pre;overflow-x:auto;line-height:normal;font-family:Menlo,'DejaVu Sans Mono',consolas,'Courier New',monospace\"><span style=\"font-weight: bold\">Model: \"sequential\"</span>\n",
       "</pre>\n"
      ],
      "text/plain": [
       "\u001b[1mModel: \"sequential\"\u001b[0m\n"
      ]
     },
     "metadata": {},
     "output_type": "display_data"
    },
    {
     "data": {
      "text/html": [
       "<pre style=\"white-space:pre;overflow-x:auto;line-height:normal;font-family:Menlo,'DejaVu Sans Mono',consolas,'Courier New',monospace\">┏━━━━━━━━━━━━━━━━━━━━━━━━━━━━━━━━━┳━━━━━━━━━━━━━━━━━━━━━━━━┳━━━━━━━━━━━━━━━┓\n",
       "┃<span style=\"font-weight: bold\"> Layer (type)                    </span>┃<span style=\"font-weight: bold\"> Output Shape           </span>┃<span style=\"font-weight: bold\">       Param # </span>┃\n",
       "┡━━━━━━━━━━━━━━━━━━━━━━━━━━━━━━━━━╇━━━━━━━━━━━━━━━━━━━━━━━━╇━━━━━━━━━━━━━━━┩\n",
       "│ embedding (<span style=\"color: #0087ff; text-decoration-color: #0087ff\">Embedding</span>)           │ (<span style=\"color: #00af00; text-decoration-color: #00af00\">32</span>, <span style=\"color: #00af00; text-decoration-color: #00af00\">500</span>, <span style=\"color: #00af00; text-decoration-color: #00af00\">128</span>)         │     <span style=\"color: #00af00; text-decoration-color: #00af00\">1,280,000</span> │\n",
       "├─────────────────────────────────┼────────────────────────┼───────────────┤\n",
       "│ simple_rnn (<span style=\"color: #0087ff; text-decoration-color: #0087ff\">SimpleRNN</span>)          │ (<span style=\"color: #00af00; text-decoration-color: #00af00\">32</span>, <span style=\"color: #00af00; text-decoration-color: #00af00\">128</span>)              │        <span style=\"color: #00af00; text-decoration-color: #00af00\">32,896</span> │\n",
       "├─────────────────────────────────┼────────────────────────┼───────────────┤\n",
       "│ dense (<span style=\"color: #0087ff; text-decoration-color: #0087ff\">Dense</span>)                   │ (<span style=\"color: #00af00; text-decoration-color: #00af00\">32</span>, <span style=\"color: #00af00; text-decoration-color: #00af00\">1</span>)                │           <span style=\"color: #00af00; text-decoration-color: #00af00\">129</span> │\n",
       "└─────────────────────────────────┴────────────────────────┴───────────────┘\n",
       "</pre>\n"
      ],
      "text/plain": [
       "┏━━━━━━━━━━━━━━━━━━━━━━━━━━━━━━━━━┳━━━━━━━━━━━━━━━━━━━━━━━━┳━━━━━━━━━━━━━━━┓\n",
       "┃\u001b[1m \u001b[0m\u001b[1mLayer (type)                   \u001b[0m\u001b[1m \u001b[0m┃\u001b[1m \u001b[0m\u001b[1mOutput Shape          \u001b[0m\u001b[1m \u001b[0m┃\u001b[1m \u001b[0m\u001b[1m      Param #\u001b[0m\u001b[1m \u001b[0m┃\n",
       "┡━━━━━━━━━━━━━━━━━━━━━━━━━━━━━━━━━╇━━━━━━━━━━━━━━━━━━━━━━━━╇━━━━━━━━━━━━━━━┩\n",
       "│ embedding (\u001b[38;5;33mEmbedding\u001b[0m)           │ (\u001b[38;5;34m32\u001b[0m, \u001b[38;5;34m500\u001b[0m, \u001b[38;5;34m128\u001b[0m)         │     \u001b[38;5;34m1,280,000\u001b[0m │\n",
       "├─────────────────────────────────┼────────────────────────┼───────────────┤\n",
       "│ simple_rnn (\u001b[38;5;33mSimpleRNN\u001b[0m)          │ (\u001b[38;5;34m32\u001b[0m, \u001b[38;5;34m128\u001b[0m)              │        \u001b[38;5;34m32,896\u001b[0m │\n",
       "├─────────────────────────────────┼────────────────────────┼───────────────┤\n",
       "│ dense (\u001b[38;5;33mDense\u001b[0m)                   │ (\u001b[38;5;34m32\u001b[0m, \u001b[38;5;34m1\u001b[0m)                │           \u001b[38;5;34m129\u001b[0m │\n",
       "└─────────────────────────────────┴────────────────────────┴───────────────┘\n"
      ]
     },
     "metadata": {},
     "output_type": "display_data"
    },
    {
     "data": {
      "text/html": [
       "<pre style=\"white-space:pre;overflow-x:auto;line-height:normal;font-family:Menlo,'DejaVu Sans Mono',consolas,'Courier New',monospace\"><span style=\"font-weight: bold\"> Total params: </span><span style=\"color: #00af00; text-decoration-color: #00af00\">1,313,027</span> (5.01 MB)\n",
       "</pre>\n"
      ],
      "text/plain": [
       "\u001b[1m Total params: \u001b[0m\u001b[38;5;34m1,313,027\u001b[0m (5.01 MB)\n"
      ]
     },
     "metadata": {},
     "output_type": "display_data"
    },
    {
     "data": {
      "text/html": [
       "<pre style=\"white-space:pre;overflow-x:auto;line-height:normal;font-family:Menlo,'DejaVu Sans Mono',consolas,'Courier New',monospace\"><span style=\"font-weight: bold\"> Trainable params: </span><span style=\"color: #00af00; text-decoration-color: #00af00\">1,313,025</span> (5.01 MB)\n",
       "</pre>\n"
      ],
      "text/plain": [
       "\u001b[1m Trainable params: \u001b[0m\u001b[38;5;34m1,313,025\u001b[0m (5.01 MB)\n"
      ]
     },
     "metadata": {},
     "output_type": "display_data"
    },
    {
     "data": {
      "text/html": [
       "<pre style=\"white-space:pre;overflow-x:auto;line-height:normal;font-family:Menlo,'DejaVu Sans Mono',consolas,'Courier New',monospace\"><span style=\"font-weight: bold\"> Non-trainable params: </span><span style=\"color: #00af00; text-decoration-color: #00af00\">0</span> (0.00 B)\n",
       "</pre>\n"
      ],
      "text/plain": [
       "\u001b[1m Non-trainable params: \u001b[0m\u001b[38;5;34m0\u001b[0m (0.00 B)\n"
      ]
     },
     "metadata": {},
     "output_type": "display_data"
    },
    {
     "data": {
      "text/html": [
       "<pre style=\"white-space:pre;overflow-x:auto;line-height:normal;font-family:Menlo,'DejaVu Sans Mono',consolas,'Courier New',monospace\"><span style=\"font-weight: bold\"> Optimizer params: </span><span style=\"color: #00af00; text-decoration-color: #00af00\">2</span> (12.00 B)\n",
       "</pre>\n"
      ],
      "text/plain": [
       "\u001b[1m Optimizer params: \u001b[0m\u001b[38;5;34m2\u001b[0m (12.00 B)\n"
      ]
     },
     "metadata": {},
     "output_type": "display_data"
    }
   ],
   "source": [
    "model = load_model('simple_rnn_imdb.h5')\n",
    "model.summary()"
   ]
  },
  {
   "cell_type": "code",
   "execution_count": 5,
   "metadata": {},
   "outputs": [
    {
     "data": {
      "text/plain": [
       "[array([[ 7.2815245e-01,  2.5253582e-01, -5.9254259e-01, ...,\n",
       "         -8.6997187e-01, -3.8257742e-01,  6.5073848e-01],\n",
       "        [-4.9493052e-02, -5.7190616e-02,  2.5769880e-02, ...,\n",
       "         -1.4222904e-02, -1.1782651e-02,  6.8721376e-02],\n",
       "        [ 1.4998731e-01, -1.2397457e-01, -2.5951698e-01, ...,\n",
       "         -1.5651551e-01,  2.8970975e-02, -1.1613188e-01],\n",
       "        ...,\n",
       "        [-3.8431339e-02, -3.3567820e-02,  4.7502458e-02, ...,\n",
       "          3.3607740e-02,  1.8616017e-02,  5.3303923e-02],\n",
       "        [ 8.9517824e-02,  8.0888696e-02,  1.8547276e-02, ...,\n",
       "          5.8444538e-03, -7.6633207e-02,  2.6610985e-02],\n",
       "        [-1.3903365e-01, -1.3060026e-01,  1.3934422e-01, ...,\n",
       "          1.3801986e-01,  1.5182082e-01, -2.0146935e-04]], dtype=float32),\n",
       " array([[-0.01366218, -0.05195764, -0.00786208, ..., -0.07374313,\n",
       "          0.15971243,  0.19986308],\n",
       "        [ 0.2245177 , -0.1310922 ,  0.06860486, ...,  0.008849  ,\n",
       "         -0.03037737, -0.08197493],\n",
       "        [ 0.17654283,  0.08180584, -0.05741397, ...,  0.02348401,\n",
       "          0.23304678, -0.14751385],\n",
       "        ...,\n",
       "        [ 0.14601871, -0.01463847,  0.08313232, ...,  0.13223837,\n",
       "          0.05173825, -0.14858273],\n",
       "        [-0.16778478,  0.03448609, -0.00872158, ..., -0.1157483 ,\n",
       "         -0.16197188, -0.03673222],\n",
       "        [ 0.09263346,  0.1778511 ,  0.19589686, ...,  0.23102103,\n",
       "          0.12853366,  0.01600873]], dtype=float32),\n",
       " array([[ 0.05505757, -0.1861245 ,  0.06796192, ..., -0.0806004 ,\n",
       "         -0.08633555, -0.04840396],\n",
       "        [ 0.09611595,  0.17717862, -0.06867958, ...,  0.1305807 ,\n",
       "         -0.04013083, -0.02843233],\n",
       "        [ 0.06585439,  0.03082241, -0.1887908 , ...,  0.1168185 ,\n",
       "          0.00862902, -0.01544518],\n",
       "        ...,\n",
       "        [-0.00849354, -0.01732916,  0.00388265, ...,  0.00782505,\n",
       "         -0.03365562,  0.13350199],\n",
       "        [ 0.01986631, -0.24057382, -0.05202614, ...,  0.00525151,\n",
       "         -0.20247048,  0.02873021],\n",
       "        [-0.15916272, -0.02917155,  0.11617488, ...,  0.18832159,\n",
       "          0.04716032, -0.11132903]], dtype=float32),\n",
       " array([ 0.00570672, -0.01018174,  0.01333879, -0.01764016, -0.00939041,\n",
       "        -0.03216695, -0.01769919, -0.01748287,  0.00655356,  0.00396141,\n",
       "        -0.00639158,  0.01076538, -0.01876763, -0.00465294, -0.01748208,\n",
       "        -0.00537308,  0.02643014, -0.00991595, -0.01599139, -0.03003073,\n",
       "         0.01194116,  0.04033672, -0.02713207, -0.00265125, -0.0107139 ,\n",
       "        -0.02636033, -0.01799339,  0.00065033, -0.02178254, -0.02535979,\n",
       "         0.01745779,  0.01990017, -0.00546541, -0.00977308, -0.19662523,\n",
       "        -0.01910545, -0.02208609,  0.00777131,  0.01284026, -0.02973308,\n",
       "         0.00129051,  0.01669278, -0.0032472 ,  0.01501163, -0.04266793,\n",
       "         0.00115423, -0.033211  ,  0.00253943, -0.00700441,  0.00326958,\n",
       "        -0.01481784, -0.02521526,  0.00669443,  0.00263434, -0.01933042,\n",
       "        -0.00036886,  0.02623667,  0.00475358,  0.00852964,  0.00428611,\n",
       "        -0.00667339, -0.02935199, -0.00364361, -0.03242826, -0.02492338,\n",
       "        -0.01814174, -0.00052974,  0.05671884,  0.01166524, -0.00087643,\n",
       "        -0.00308007, -0.01395271, -0.00652913,  0.01417695, -0.0193877 ,\n",
       "        -0.01163819,  0.00195385, -0.04078047, -0.02973081,  0.00087243,\n",
       "         0.02742705,  0.00549378,  0.01122967, -0.01472572,  0.00749442,\n",
       "         0.01351343, -0.00136477, -0.01158306, -0.0403927 ,  0.00967741,\n",
       "        -0.01709007, -0.00384388, -0.00853938, -0.02148367,  0.00270459,\n",
       "        -0.00725635,  0.02684161,  0.00218196,  0.00423713, -0.01003897,\n",
       "        -0.00358838, -0.01129579,  0.0217564 ,  0.00304616,  0.01748145,\n",
       "        -0.02442104, -0.0046389 ,  0.02479135, -0.01314439,  0.01696537,\n",
       "         0.01195433,  0.00996662,  0.00540928,  0.00097081,  0.01539343,\n",
       "        -0.00285566,  0.00065692, -0.0292119 , -0.01495124, -0.00838839,\n",
       "         0.03690066,  0.02627431,  0.00053171,  0.00296131, -0.04820751,\n",
       "        -0.03412113, -0.05435782,  0.00875537], dtype=float32),\n",
       " array([[-0.05560682],\n",
       "        [ 0.2280243 ],\n",
       "        [ 0.3162961 ],\n",
       "        [ 0.08732302],\n",
       "        [ 0.22127584],\n",
       "        [-0.07535199],\n",
       "        [ 0.00318027],\n",
       "        [-0.25835317],\n",
       "        [-0.3217934 ],\n",
       "        [ 0.2138255 ],\n",
       "        [-0.08693236],\n",
       "        [ 0.16810328],\n",
       "        [-0.09524485],\n",
       "        [-0.3016392 ],\n",
       "        [-0.09044436],\n",
       "        [-0.32678565],\n",
       "        [-0.20789339],\n",
       "        [-0.10674995],\n",
       "        [-0.13043961],\n",
       "        [-0.2525217 ],\n",
       "        [ 0.20299305],\n",
       "        [ 0.5768206 ],\n",
       "        [-0.02753596],\n",
       "        [ 0.00846263],\n",
       "        [ 0.03810689],\n",
       "        [-0.05669231],\n",
       "        [ 0.25633672],\n",
       "        [-0.06008608],\n",
       "        [ 0.0832663 ],\n",
       "        [-0.20017931],\n",
       "        [ 0.01089605],\n",
       "        [-0.26165316],\n",
       "        [-0.08150513],\n",
       "        [-0.15365149],\n",
       "        [-0.19068414],\n",
       "        [-0.14873868],\n",
       "        [ 0.09724869],\n",
       "        [ 0.13710013],\n",
       "        [-0.01669752],\n",
       "        [-0.14922543],\n",
       "        [-0.1894337 ],\n",
       "        [ 0.36627343],\n",
       "        [ 0.01816121],\n",
       "        [ 0.03576989],\n",
       "        [-0.04149335],\n",
       "        [-0.31922737],\n",
       "        [-0.07073268],\n",
       "        [-0.01485265],\n",
       "        [-0.18467897],\n",
       "        [-0.07762413],\n",
       "        [-0.0018693 ],\n",
       "        [ 0.09847833],\n",
       "        [-0.2402356 ],\n",
       "        [-0.25534403],\n",
       "        [-0.14948347],\n",
       "        [-0.2107692 ],\n",
       "        [ 0.24000162],\n",
       "        [ 0.1423561 ],\n",
       "        [-0.20489179],\n",
       "        [ 0.06759516],\n",
       "        [ 0.08847046],\n",
       "        [ 0.01866878],\n",
       "        [ 0.20848541],\n",
       "        [-0.11332199],\n",
       "        [-0.09156381],\n",
       "        [-0.12948868],\n",
       "        [-0.26283225],\n",
       "        [-0.16774862],\n",
       "        [-0.14457324],\n",
       "        [ 0.31450438],\n",
       "        [ 0.03706151],\n",
       "        [-0.14056346],\n",
       "        [ 0.21687526],\n",
       "        [ 0.16732964],\n",
       "        [-0.6244523 ],\n",
       "        [ 0.11687512],\n",
       "        [ 0.05192562],\n",
       "        [-0.18338522],\n",
       "        [-0.16372138],\n",
       "        [-0.07522839],\n",
       "        [ 0.13038501],\n",
       "        [ 0.08575157],\n",
       "        [ 0.21679787],\n",
       "        [-0.10994934],\n",
       "        [ 0.01233638],\n",
       "        [-0.24768804],\n",
       "        [ 0.18027103],\n",
       "        [-0.13517734],\n",
       "        [ 0.09278397],\n",
       "        [-0.19052157],\n",
       "        [-0.04313576],\n",
       "        [ 0.01396333],\n",
       "        [-0.0194787 ],\n",
       "        [ 0.2917109 ],\n",
       "        [-0.24871546],\n",
       "        [-0.01408497],\n",
       "        [ 0.06535251],\n",
       "        [ 0.29657087],\n",
       "        [-0.24683896],\n",
       "        [-0.10166518],\n",
       "        [ 0.21243154],\n",
       "        [ 0.12190516],\n",
       "        [ 0.15610427],\n",
       "        [-0.31800348],\n",
       "        [-0.2973541 ],\n",
       "        [-0.17932431],\n",
       "        [ 0.03904352],\n",
       "        [ 0.237641  ],\n",
       "        [-0.07380651],\n",
       "        [ 0.18844761],\n",
       "        [-0.12586683],\n",
       "        [-0.29695323],\n",
       "        [-0.2737438 ],\n",
       "        [-0.02337848],\n",
       "        [ 0.15298794],\n",
       "        [ 0.21813685],\n",
       "        [ 0.22173691],\n",
       "        [-0.01612168],\n",
       "        [-0.251773  ],\n",
       "        [-0.03065224],\n",
       "        [-0.2620831 ],\n",
       "        [ 0.02044761],\n",
       "        [-0.28270444],\n",
       "        [-0.03435384],\n",
       "        [ 0.03314926],\n",
       "        [ 0.07420392],\n",
       "        [-0.19956458],\n",
       "        [-0.32107112]], dtype=float32),\n",
       " array([-0.05360603], dtype=float32)]"
      ]
     },
     "execution_count": 5,
     "metadata": {},
     "output_type": "execute_result"
    }
   ],
   "source": [
    "model.get_weights()"
   ]
  },
  {
   "cell_type": "code",
   "execution_count": 7,
   "metadata": {},
   "outputs": [],
   "source": [
    "def decode_review(encoded_review):\n",
    "    return ' '.join([reverse_word_index.get(i - 3, '?') for i in encoded_review])\n",
    "\n",
    "def preprocess_text(text):\n",
    "    words = text.lower().split()\n",
    "    encoded_review = [word_index.get(word, 2) + 3 for word in words]\n",
    "    padded_review = sequence.pad_sequences([encoded_review], maxlen=500)\n",
    "    return padded_review"
   ]
  },
  {
   "cell_type": "code",
   "execution_count": 15,
   "metadata": {},
   "outputs": [],
   "source": [
    "def predict_sentiment(review):\n",
    "    preprocessed_input=preprocess_text(review)\n",
    "    prediction=model.predict(preprocessed_input)\n",
    "    sentiment = 'Positive' if prediction[0][0] > 0.5 else 'Negative'\n",
    "    return sentiment, prediction[0][0]"
   ]
  },
  {
   "cell_type": "code",
   "execution_count": 16,
   "metadata": {},
   "outputs": [
    {
     "name": "stdout",
     "output_type": "stream",
     "text": [
      "\u001b[1m1/1\u001b[0m \u001b[32m━━━━━━━━━━━━━━━━━━━━\u001b[0m\u001b[37m\u001b[0m \u001b[1m0s\u001b[0m 297ms/step\n",
      "Review: This movie was fantastic! The acting was great and the plot was thrilling.\n",
      "Sentiment: Negative\n",
      "Prediction Score: 0.3390357792377472\n"
     ]
    }
   ],
   "source": [
    "example_review = \"This movie was fantastic! The acting was great and the plot was thrilling.\"\n",
    "\n",
    "sentiment,score=predict_sentiment(example_review)\n",
    "\n",
    "print(f'Review: {example_review}')\n",
    "print(f'Sentiment: {sentiment}')\n",
    "print(f'Prediction Score: {score}')"
   ]
  }
 ],
 "metadata": {
  "kernelspec": {
   "display_name": "Python 3",
   "language": "python",
   "name": "python3"
  },
  "language_info": {
   "codemirror_mode": {
    "name": "ipython",
    "version": 3
   },
   "file_extension": ".py",
   "mimetype": "text/x-python",
   "name": "python",
   "nbconvert_exporter": "python",
   "pygments_lexer": "ipython3",
   "version": "3.12.4"
  }
 },
 "nbformat": 4,
 "nbformat_minor": 2
}
